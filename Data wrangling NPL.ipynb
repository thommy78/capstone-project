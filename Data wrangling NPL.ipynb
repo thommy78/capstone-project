{
 "cells": [
  {
   "cell_type": "code",
   "execution_count": 4,
   "metadata": {},
   "outputs": [],
   "source": [
    "import requests\n",
    "import pandas as pd\n",
    "from datetime import datetime, timedelta\n",
    "import json\n",
    "from pandas.io.json import json_normalize\n",
    "import numpy as np"
   ]
  },
  {
   "cell_type": "markdown",
   "metadata": {},
   "source": [
    "**Section 2. Data wrangling**\n"
   ]
  },
  {
   "cell_type": "code",
   "execution_count": 5,
   "metadata": {},
   "outputs": [
    {
     "name": "stdout",
     "output_type": "stream",
     "text": [
      "    Unnamed: 0        ES        NL    DE         IT        AT\n",
      "0   2005-01-01  0.794366       NaN  4.05   6.996173       NaN\n",
      "1   2006-01-01  0.701195       NaN  3.41   6.568115  2.739429\n",
      "2   2007-01-01  0.896581       NaN  2.65   5.777608  2.242467\n",
      "3   2008-01-01  2.807694  1.681398  2.85   6.282581  1.903069\n",
      "4   2009-01-01  4.121031  3.201688  3.31   9.446344  2.250423\n",
      "5   2010-01-01  4.668372  2.832349  3.20  10.027837  2.830717\n",
      "6   2011-01-01  6.007281  2.710877  3.03  11.742349  2.706816\n",
      "7   2012-01-01  7.483904  3.097844  2.86  13.746370  2.813365\n",
      "8   2013-01-01  9.380730  3.227169  2.70  16.542706  2.866542\n",
      "9   2014-01-01  8.452782  2.982662  2.34  18.033047  3.473374\n",
      "10  2015-01-01  6.162377  2.711985  1.97  18.064369  3.392837\n",
      "11  2016-01-01  5.635258  2.540527  1.71  17.116239  2.695217\n",
      "12  2017-01-01  4.460000  2.305427  1.50  14.383299  2.368895\n",
      "13  2018-01-01  3.690000  1.959881  1.24   8.386283  1.882429\n",
      "14  2019-01-01  3.160000  1.856651   NaN        NaN       NaN\n"
     ]
    },
    {
     "data": {
      "text/html": [
       "<div>\n",
       "<style scoped>\n",
       "    .dataframe tbody tr th:only-of-type {\n",
       "        vertical-align: middle;\n",
       "    }\n",
       "\n",
       "    .dataframe tbody tr th {\n",
       "        vertical-align: top;\n",
       "    }\n",
       "\n",
       "    .dataframe thead th {\n",
       "        text-align: right;\n",
       "    }\n",
       "</style>\n",
       "<table border=\"1\" class=\"dataframe\">\n",
       "  <thead>\n",
       "    <tr style=\"text-align: right;\">\n",
       "      <th></th>\n",
       "      <th>ES</th>\n",
       "      <th>NL</th>\n",
       "      <th>DE</th>\n",
       "      <th>IT</th>\n",
       "      <th>AT</th>\n",
       "    </tr>\n",
       "  </thead>\n",
       "  <tbody>\n",
       "    <tr>\n",
       "      <th>count</th>\n",
       "      <td>15.000000</td>\n",
       "      <td>12.000000</td>\n",
       "      <td>14.000000</td>\n",
       "      <td>14.000000</td>\n",
       "      <td>13.000000</td>\n",
       "    </tr>\n",
       "    <tr>\n",
       "      <th>mean</th>\n",
       "      <td>4.561438</td>\n",
       "      <td>2.592372</td>\n",
       "      <td>2.630000</td>\n",
       "      <td>11.650951</td>\n",
       "      <td>2.628122</td>\n",
       "    </tr>\n",
       "    <tr>\n",
       "      <th>std</th>\n",
       "      <td>2.689314</td>\n",
       "      <td>0.532936</td>\n",
       "      <td>0.796811</td>\n",
       "      <td>4.611834</td>\n",
       "      <td>0.491161</td>\n",
       "    </tr>\n",
       "    <tr>\n",
       "      <th>min</th>\n",
       "      <td>0.701195</td>\n",
       "      <td>1.681398</td>\n",
       "      <td>1.240000</td>\n",
       "      <td>5.777608</td>\n",
       "      <td>1.882429</td>\n",
       "    </tr>\n",
       "    <tr>\n",
       "      <th>25%</th>\n",
       "      <td>2.983847</td>\n",
       "      <td>2.219041</td>\n",
       "      <td>2.062500</td>\n",
       "      <td>7.343701</td>\n",
       "      <td>2.250423</td>\n",
       "    </tr>\n",
       "    <tr>\n",
       "      <th>50%</th>\n",
       "      <td>4.460000</td>\n",
       "      <td>2.711431</td>\n",
       "      <td>2.775000</td>\n",
       "      <td>10.885093</td>\n",
       "      <td>2.706816</td>\n",
       "    </tr>\n",
       "    <tr>\n",
       "      <th>75%</th>\n",
       "      <td>6.084829</td>\n",
       "      <td>3.011458</td>\n",
       "      <td>3.157500</td>\n",
       "      <td>16.002854</td>\n",
       "      <td>2.830717</td>\n",
       "    </tr>\n",
       "    <tr>\n",
       "      <th>max</th>\n",
       "      <td>9.380730</td>\n",
       "      <td>3.227169</td>\n",
       "      <td>4.050000</td>\n",
       "      <td>18.064369</td>\n",
       "      <td>3.473374</td>\n",
       "    </tr>\n",
       "  </tbody>\n",
       "</table>\n",
       "</div>"
      ],
      "text/plain": [
       "              ES         NL         DE         IT         AT\n",
       "count  15.000000  12.000000  14.000000  14.000000  13.000000\n",
       "mean    4.561438   2.592372   2.630000  11.650951   2.628122\n",
       "std     2.689314   0.532936   0.796811   4.611834   0.491161\n",
       "min     0.701195   1.681398   1.240000   5.777608   1.882429\n",
       "25%     2.983847   2.219041   2.062500   7.343701   2.250423\n",
       "50%     4.460000   2.711431   2.775000  10.885093   2.706816\n",
       "75%     6.084829   3.011458   3.157500  16.002854   2.830717\n",
       "max     9.380730   3.227169   4.050000  18.064369   3.473374"
      ]
     },
     "execution_count": 5,
     "metadata": {},
     "output_type": "execute_result"
    }
   ],
   "source": [
    "\n",
    "df_npl_a=pd.read_csv('NPL_data.csv')\n",
    "print(df_npl_a)\n",
    "df_npl_a.describe()\n",
    "# statistical overview of the data on the annual basis. One can see missing data, no index and wrong time - scale\n"
   ]
  },
  {
   "cell_type": "code",
   "execution_count": 6,
   "metadata": {},
   "outputs": [
    {
     "name": "stdout",
     "output_type": "stream",
     "text": [
      "<class 'pandas.core.frame.DataFrame'>\n",
      "RangeIndex: 15 entries, 0 to 14\n",
      "Data columns (total 6 columns):\n",
      "Date    15 non-null object\n",
      "ES      15 non-null float64\n",
      "NL      12 non-null float64\n",
      "DE      14 non-null float64\n",
      "IT      14 non-null float64\n",
      "AT      13 non-null float64\n",
      "dtypes: float64(5), object(1)\n",
      "memory usage: 800.0+ bytes\n",
      "None\n"
     ]
    }
   ],
   "source": [
    "df_npl_a.rename(columns = {'Unnamed: 0':'Date'}, inplace = True) # Rename of the date column to date\n",
    "print(df_npl_a.info())"
   ]
  },
  {
   "cell_type": "code",
   "execution_count": 7,
   "metadata": {},
   "outputs": [
    {
     "name": "stdout",
     "output_type": "stream",
     "text": [
      "         Date        ES        NL    DE         IT        AT\n",
      "0  2005-01-01  0.794366       NaN  4.05   6.996173       NaN\n",
      "1  2006-01-01  0.701195       NaN  3.41   6.568115  2.739429\n",
      "2  2007-01-01  0.896581       NaN  2.65   5.777608  2.242467\n",
      "3  2008-01-01  2.807694  1.681398  2.85   6.282581  1.903069\n",
      "4  2009-01-01  4.121031  3.201688  3.31   9.446344  2.250423\n",
      "5  2010-01-01  4.668372  2.832349  3.20  10.027837  2.830717\n",
      "6  2011-01-01  6.007281  2.710877  3.03  11.742349  2.706816\n",
      "7  2012-01-01  7.483904  3.097844  2.86  13.746370  2.813365\n",
      "8  2013-01-01  9.380730  3.227169  2.70  16.542706  2.866542\n",
      "9  2014-01-01  8.452782  2.982662  2.34  18.033047  3.473374\n",
      "10 2015-01-01  6.162377  2.711985  1.97  18.064369  3.392837\n",
      "11 2016-01-01  5.635258  2.540527  1.71  17.116239  2.695217\n",
      "12 2017-01-01  4.460000  2.305427  1.50  14.383299  2.368895\n",
      "13 2018-01-01  3.690000  1.959881  1.24   8.386283  1.882429\n",
      "14 2019-01-01  3.160000  1.856651   NaN        NaN       NaN\n"
     ]
    }
   ],
   "source": [
    "df_npl_a['Date'] = pd.DatetimeIndex(df_npl_a['Date']) # change string to datetime\n",
    "print(df_npl_a)"
   ]
  },
  {
   "cell_type": "code",
   "execution_count": 8,
   "metadata": {},
   "outputs": [
    {
     "name": "stdout",
     "output_type": "stream",
     "text": [
      "                  ES        NL    DE         IT        AT\n",
      "Date                                                     \n",
      "2005-01-01  0.794366       NaN  4.05   6.996173       NaN\n",
      "2006-01-01  0.701195       NaN  3.41   6.568115  2.739429\n",
      "2007-01-01  0.896581       NaN  2.65   5.777608  2.242467\n",
      "2008-01-01  2.807694  1.681398  2.85   6.282581  1.903069\n",
      "2009-01-01  4.121031  3.201688  3.31   9.446344  2.250423\n",
      "2010-01-01  4.668372  2.832349  3.20  10.027837  2.830717\n",
      "2011-01-01  6.007281  2.710877  3.03  11.742349  2.706816\n",
      "2012-01-01  7.483904  3.097844  2.86  13.746370  2.813365\n",
      "2013-01-01  9.380730  3.227169  2.70  16.542706  2.866542\n",
      "2014-01-01  8.452782  2.982662  2.34  18.033047  3.473374\n",
      "2015-01-01  6.162377  2.711985  1.97  18.064369  3.392837\n",
      "2016-01-01  5.635258  2.540527  1.71  17.116239  2.695217\n",
      "2017-01-01  4.460000  2.305427  1.50  14.383299  2.368895\n",
      "2018-01-01  3.690000  1.959881  1.24   8.386283  1.882429\n",
      "2019-01-01  3.160000  1.856651   NaN        NaN       NaN\n"
     ]
    }
   ],
   "source": [
    "df_npl_a.set_index('Date', inplace=True) # set date columns as index\n",
    "print(df_npl_a)"
   ]
  },
  {
   "cell_type": "code",
   "execution_count": 9,
   "metadata": {},
   "outputs": [
    {
     "name": "stdout",
     "output_type": "stream",
     "text": [
      "                  ES        NL    DE         IT        AT\n",
      "Date                                                     \n",
      "2005-12-31  0.794366       NaN  4.05   6.996173       NaN\n",
      "2006-12-31  0.701195       NaN  3.41   6.568115  2.739429\n",
      "2007-12-31  0.896581       NaN  2.65   5.777608  2.242467\n",
      "2008-12-31  2.807694  1.681398  2.85   6.282581  1.903069\n",
      "2009-12-31  4.121031  3.201688  3.31   9.446344  2.250423\n",
      "2010-12-31  4.668372  2.832349  3.20  10.027837  2.830717\n",
      "2011-12-31  6.007281  2.710877  3.03  11.742349  2.706816\n",
      "2012-12-31  7.483904  3.097844  2.86  13.746370  2.813365\n",
      "2013-12-31  9.380730  3.227169  2.70  16.542706  2.866542\n",
      "2014-12-31  8.452782  2.982662  2.34  18.033047  3.473374\n",
      "2015-12-31  6.162377  2.711985  1.97  18.064369  3.392837\n",
      "2016-12-31  5.635258  2.540527  1.71  17.116239  2.695217\n",
      "2017-12-31  4.460000  2.305427  1.50  14.383299  2.368895\n",
      "2018-12-31  3.690000  1.959881  1.24   8.386283  1.882429\n",
      "2019-12-31  3.160000  1.856651   NaN        NaN       NaN\n"
     ]
    }
   ],
   "source": [
    "df_npl_a['index_shifted']= df_npl_a.index.shift(12, freq='M')\n",
    "df_npl_a.rename(columns = {'index_shifted':'Date'}, inplace = True)\n",
    "df_npl_a.set_index('Date', inplace=True)\n",
    "print(df_npl_a)\n",
    "# Shiftinf the date from beginning of the year to the end"
   ]
  },
  {
   "cell_type": "code",
   "execution_count": 10,
   "metadata": {},
   "outputs": [
    {
     "name": "stdout",
     "output_type": "stream",
     "text": [
      "<class 'pandas.core.frame.DataFrame'>\n",
      "DatetimeIndex: 57 entries, 2005-12-31 to 2019-12-31\n",
      "Freq: Q-DEC\n",
      "Data columns (total 5 columns):\n",
      "ES    57 non-null float64\n",
      "NL    45 non-null float64\n",
      "DE    57 non-null float64\n",
      "IT    57 non-null float64\n",
      "AT    53 non-null float64\n",
      "dtypes: float64(5)\n",
      "memory usage: 2.7 KB\n",
      "None\n",
      "                  ES  NL    DE        IT        AT\n",
      "Date                                              \n",
      "2005-12-31  0.794366 NaN  4.05  6.996173       NaN\n",
      "2006-03-31  0.771073 NaN  3.89  6.889158       NaN\n",
      "2006-06-30  0.747780 NaN  3.73  6.782144       NaN\n",
      "2006-09-30  0.724487 NaN  3.57  6.675129       NaN\n",
      "2006-12-31  0.701195 NaN  3.41  6.568115  2.739429\n"
     ]
    }
   ],
   "source": [
    "resampled_npl=df_npl_a.resample('Q').first().interpolate('linear')\n",
    "print(resampled_npl.info())\n",
    "print(resampled_npl.head())\n",
    "# resampling annual to quarterly as in the quarterly data DE column is missing and need to add"
   ]
  },
  {
   "cell_type": "code",
   "execution_count": 11,
   "metadata": {},
   "outputs": [
    {
     "name": "stdout",
     "output_type": "stream",
     "text": [
      "Date\n",
      "2005-12-31    4.05\n",
      "2006-03-31    3.89\n",
      "2006-06-30    3.73\n",
      "2006-09-30    3.57\n",
      "2006-12-31    3.41\n",
      "Freq: Q-DEC, Name: DE, dtype: float64\n"
     ]
    }
   ],
   "source": [
    "df_npl_q_de=resampled_npl['DE']# taking out annual DE to later combine with the quarterly dat\n",
    "print(df_npl_q_de.head())\n",
    "\n",
    "\n"
   ]
  },
  {
   "cell_type": "code",
   "execution_count": 12,
   "metadata": {},
   "outputs": [
    {
     "name": "stdout",
     "output_type": "stream",
     "text": [
      "    Unnamed: 0         IT        NL        AT        ES\n",
      "0   2005-10-01   6.996173       NaN       NaN  0.794366\n",
      "1   2006-04-01   6.568115       NaN       NaN  0.739436\n",
      "2   2006-10-01   6.568115       NaN       NaN  0.701195\n",
      "3   2007-04-01   5.567421       NaN       NaN  0.749239\n",
      "4   2007-10-01   5.777608       NaN       NaN  0.896581\n",
      "5   2008-01-01        NaN  0.510854       NaN       NaN\n",
      "6   2008-04-01   5.436451  0.865407       NaN  1.492789\n",
      "7   2008-07-01        NaN  1.093333       NaN       NaN\n",
      "8   2008-10-01   6.282581  1.681398       NaN  2.807694\n",
      "9   2009-01-01        NaN  1.829189       NaN       NaN\n",
      "10  2009-04-01   7.722315  2.441675       NaN  3.768974\n",
      "11  2009-07-01        NaN  2.689266       NaN       NaN\n",
      "12  2009-10-01   9.446344  3.201688       NaN  4.121031\n",
      "13  2010-01-01        NaN  3.191778  2.279504       NaN\n",
      "14  2010-04-01   9.864680  2.756128  2.413387  4.342693\n",
      "15  2010-07-01        NaN  2.573606  2.580078       NaN\n",
      "16  2010-10-01  10.027837  2.832349  2.830717  4.668372\n",
      "17  2011-01-01        NaN  2.734346  2.724025       NaN\n",
      "18  2011-04-01  10.968443  2.679839  2.740218  5.270100\n",
      "19  2011-07-01        NaN  2.716891  2.655801       NaN\n",
      "20  2011-10-01  11.742349  2.710877  2.706816  6.007281\n",
      "21  2012-01-01        NaN  2.940780  2.724723       NaN\n",
      "22  2012-04-01  12.908163  3.123181  2.754793  7.074909\n",
      "23  2012-07-01        NaN  3.064903  2.728541       NaN\n",
      "24  2012-10-01  13.746370  3.097844  2.813365  7.483904\n",
      "25  2013-01-01        NaN  2.784230  2.798461       NaN\n",
      "26  2013-04-01  15.124186  3.001896  2.815004  8.247026\n",
      "27  2013-07-01        NaN  2.952210  2.899146       NaN\n",
      "28  2013-10-01  16.542706  3.227169  2.866542  9.380730\n",
      "29  2014-01-01        NaN  3.213408  3.806272       NaN\n",
      "30  2014-04-01  17.259473  3.000950  4.098871  9.000563\n",
      "31  2014-07-01        NaN  2.896065  3.947649       NaN\n",
      "32  2014-10-01  18.033047  2.982662  3.473374  8.452782\n",
      "33  2015-01-01        NaN  2.822237  3.807189  7.471330\n",
      "34  2015-04-01  17.967894  2.839622  3.580743  6.934797\n",
      "35  2015-07-01        NaN  2.713924  3.460369  6.639063\n",
      "36  2015-10-01  18.064369  2.711985  3.392837  6.162377\n",
      "37  2016-01-01        NaN  2.563435  3.300678  6.090911\n",
      "38  2016-04-01  17.498148  2.525575  3.170717  5.810751\n",
      "39  2016-07-01        NaN  2.561250  3.096327  5.705630\n",
      "40  2016-10-01  17.116239  2.540527  2.695217  5.635258\n",
      "41  2017-01-01        NaN  2.415549  2.579762  5.440000\n",
      "42  2017-04-01  16.354645  2.447769  2.530654  5.280000\n",
      "43  2017-07-01        NaN  2.384568  2.478814  4.680000\n",
      "44  2017-10-01  14.383299  2.305427  2.368895  4.460000\n",
      "45  2018-01-01        NaN  2.125947  2.261679  4.360000\n",
      "46  2018-04-01   9.850331  2.058747  2.118793  4.140000\n",
      "47  2018-07-01        NaN  1.940263  2.050375  3.990000\n",
      "48  2018-10-01        NaN  1.959881  1.882429  3.690000\n",
      "49  2019-01-01        NaN  1.891136  1.819279  3.560000\n",
      "50  2019-04-01   8.086380  1.832530  1.702844  3.410000\n",
      "51  2019-07-01        NaN  1.837989  1.654997  3.380000\n",
      "52  2019-10-01        NaN  1.856651       NaN  3.160000\n"
     ]
    }
   ],
   "source": [
    "df_npl_q=pd.read_csv('NPL_data_quarterly.csv')\n",
    "print(df_npl_q)\n",
    "# download of the quarterly data"
   ]
  },
  {
   "cell_type": "code",
   "execution_count": 13,
   "metadata": {},
   "outputs": [
    {
     "name": "stdout",
     "output_type": "stream",
     "text": [
      "                   IT        NL        AT        ES\n",
      "Date                                               \n",
      "2005-10-01   6.996173       NaN       NaN  0.794366\n",
      "2006-04-01   6.568115       NaN       NaN  0.739436\n",
      "2006-10-01   6.568115       NaN       NaN  0.701195\n",
      "2007-04-01   5.567421       NaN       NaN  0.749239\n",
      "2007-10-01   5.777608       NaN       NaN  0.896581\n",
      "2008-01-01        NaN  0.510854       NaN       NaN\n",
      "2008-04-01   5.436451  0.865407       NaN  1.492789\n",
      "2008-07-01        NaN  1.093333       NaN       NaN\n",
      "2008-10-01   6.282581  1.681398       NaN  2.807694\n",
      "2009-01-01        NaN  1.829189       NaN       NaN\n",
      "2009-04-01   7.722315  2.441675       NaN  3.768974\n",
      "2009-07-01        NaN  2.689266       NaN       NaN\n",
      "2009-10-01   9.446344  3.201688       NaN  4.121031\n",
      "2010-01-01        NaN  3.191778  2.279504       NaN\n",
      "2010-04-01   9.864680  2.756128  2.413387  4.342693\n",
      "2010-07-01        NaN  2.573606  2.580078       NaN\n",
      "2010-10-01  10.027837  2.832349  2.830717  4.668372\n",
      "2011-01-01        NaN  2.734346  2.724025       NaN\n",
      "2011-04-01  10.968443  2.679839  2.740218  5.270100\n",
      "2011-07-01        NaN  2.716891  2.655801       NaN\n",
      "2011-10-01  11.742349  2.710877  2.706816  6.007281\n",
      "2012-01-01        NaN  2.940780  2.724723       NaN\n",
      "2012-04-01  12.908163  3.123181  2.754793  7.074909\n",
      "2012-07-01        NaN  3.064903  2.728541       NaN\n",
      "2012-10-01  13.746370  3.097844  2.813365  7.483904\n",
      "2013-01-01        NaN  2.784230  2.798461       NaN\n",
      "2013-04-01  15.124186  3.001896  2.815004  8.247026\n",
      "2013-07-01        NaN  2.952210  2.899146       NaN\n",
      "2013-10-01  16.542706  3.227169  2.866542  9.380730\n",
      "2014-01-01        NaN  3.213408  3.806272       NaN\n",
      "2014-04-01  17.259473  3.000950  4.098871  9.000563\n",
      "2014-07-01        NaN  2.896065  3.947649       NaN\n",
      "2014-10-01  18.033047  2.982662  3.473374  8.452782\n",
      "2015-01-01        NaN  2.822237  3.807189  7.471330\n",
      "2015-04-01  17.967894  2.839622  3.580743  6.934797\n",
      "2015-07-01        NaN  2.713924  3.460369  6.639063\n",
      "2015-10-01  18.064369  2.711985  3.392837  6.162377\n",
      "2016-01-01        NaN  2.563435  3.300678  6.090911\n",
      "2016-04-01  17.498148  2.525575  3.170717  5.810751\n",
      "2016-07-01        NaN  2.561250  3.096327  5.705630\n",
      "2016-10-01  17.116239  2.540527  2.695217  5.635258\n",
      "2017-01-01        NaN  2.415549  2.579762  5.440000\n",
      "2017-04-01  16.354645  2.447769  2.530654  5.280000\n",
      "2017-07-01        NaN  2.384568  2.478814  4.680000\n",
      "2017-10-01  14.383299  2.305427  2.368895  4.460000\n",
      "2018-01-01        NaN  2.125947  2.261679  4.360000\n",
      "2018-04-01   9.850331  2.058747  2.118793  4.140000\n",
      "2018-07-01        NaN  1.940263  2.050375  3.990000\n",
      "2018-10-01        NaN  1.959881  1.882429  3.690000\n",
      "2019-01-01        NaN  1.891136  1.819279  3.560000\n",
      "2019-04-01   8.086380  1.832530  1.702844  3.410000\n",
      "2019-07-01        NaN  1.837989  1.654997  3.380000\n",
      "2019-10-01        NaN  1.856651       NaN  3.160000\n"
     ]
    }
   ],
   "source": [
    "df_npl_q.rename(columns = {'Unnamed: 0':'Date'}, inplace = True)\n",
    "df_npl_q['Date'] = pd.DatetimeIndex(df_npl_q['Date'])\n",
    "df_npl_q.set_index('Date', inplace=True) \n",
    "print(df_npl_q)# set date columns as index"
   ]
  },
  {
   "cell_type": "code",
   "execution_count": 14,
   "metadata": {},
   "outputs": [
    {
     "name": "stdout",
     "output_type": "stream",
     "text": [
      "                  IT  NL  AT        ES\n",
      "Date                                  \n",
      "2005-12-31  6.996173 NaN NaN  0.794366\n",
      "2006-06-30  6.568115 NaN NaN  0.739436\n",
      "2006-12-31  6.568115 NaN NaN  0.701195\n",
      "2007-06-30  5.567421 NaN NaN  0.749239\n",
      "2007-12-31  5.777608 NaN NaN  0.896581\n"
     ]
    }
   ],
   "source": [
    "df_npl_q['index_shifted']= df_npl_q.index.shift(3, freq='M')\n",
    "df_npl_q.rename(columns = {'index_shifted':'Date'}, inplace = True)\n",
    "df_npl_q.set_index('Date', inplace=True)\n",
    "print(df_npl_q.head())\n",
    "# shifting the dates"
   ]
  },
  {
   "cell_type": "code",
   "execution_count": 15,
   "metadata": {},
   "outputs": [
    {
     "name": "stdout",
     "output_type": "stream",
     "text": [
      "                  IT  NL  AT        ES    DE\n",
      "Date                                        \n",
      "2005-12-31  6.996173 NaN NaN  0.794366  4.05\n",
      "2006-06-30  6.568115 NaN NaN  0.739436  3.73\n",
      "2006-12-31  6.568115 NaN NaN  0.701195  3.41\n",
      "2007-06-30  5.567421 NaN NaN  0.749239  3.03\n",
      "2007-12-31  5.777608 NaN NaN  0.896581  2.65\n"
     ]
    }
   ],
   "source": [
    "df_npl = df_npl_q.join(df_npl_q_de)\n",
    "print(df_npl.head())\n",
    "\n",
    "# joining the DE column"
   ]
  },
  {
   "cell_type": "code",
   "execution_count": 16,
   "metadata": {},
   "outputs": [
    {
     "name": "stdout",
     "output_type": "stream",
     "text": [
      "               IT    NL    AT    ES    DE\n",
      "Date                                     \n",
      "2005-12-31   7.00   NaN   NaN  0.79  4.05\n",
      "2006-03-31   6.78   NaN   NaN  0.77  3.89\n",
      "2006-06-30   6.57   NaN   NaN  0.74  3.73\n",
      "2006-09-30   6.57   NaN   NaN  0.72  3.57\n",
      "2006-12-31   6.57   NaN   NaN  0.70  3.41\n",
      "2007-03-31   6.07   NaN   NaN  0.73  3.22\n",
      "2007-06-30   5.57   NaN   NaN  0.75  3.03\n",
      "2007-09-30   5.67   NaN   NaN  0.82  2.84\n",
      "2007-12-31   5.78   NaN   NaN  0.90  2.65\n",
      "2008-03-31   5.61  0.51   NaN  1.19  2.70\n",
      "2008-06-30   5.44  0.87   NaN  1.49  2.75\n",
      "2008-09-30   5.86  1.09   NaN  2.15  2.80\n",
      "2008-12-31   6.28  1.68   NaN  2.81  2.85\n",
      "2009-03-31   7.00  1.83   NaN  3.29  2.96\n",
      "2009-06-30   7.72  2.44   NaN  3.77  3.08\n",
      "2009-09-30   8.58  2.69   NaN  3.95  3.20\n",
      "2009-12-31   9.45  3.20   NaN  4.12  3.31\n",
      "2010-03-31   9.66  3.19  2.28  4.23  3.28\n",
      "2010-06-30   9.86  2.76  2.41  4.34  3.26\n",
      "2010-09-30   9.95  2.57  2.58  4.51  3.23\n",
      "2010-12-31  10.03  2.83  2.83  4.67  3.20\n",
      "2011-03-31  10.50  2.73  2.72  4.97  3.16\n",
      "2011-06-30  10.97  2.68  2.74  5.27  3.12\n",
      "2011-09-30  11.36  2.72  2.66  5.64  3.07\n",
      "2011-12-31  11.74  2.71  2.71  6.01  3.03\n",
      "2012-03-31  12.33  2.94  2.72  6.54  2.99\n",
      "2012-06-30  12.91  3.12  2.75  7.07  2.94\n",
      "2012-09-30  13.33  3.06  2.73  7.28  2.90\n",
      "2012-12-31  13.75  3.10  2.81  7.48  2.86\n",
      "2013-03-31  14.44  2.78  2.80  7.87  2.82\n",
      "2013-06-30  15.12  3.00  2.82  8.25  2.78\n",
      "2013-09-30  15.83  2.95  2.90  8.81  2.74\n",
      "2013-12-31  16.54  3.23  2.87  9.38  2.70\n",
      "2014-03-31  16.90  3.21  3.81  9.19  2.61\n",
      "2014-06-30  17.26  3.00  4.10  9.00  2.52\n",
      "2014-09-30  17.65  2.90  3.95  8.73  2.43\n",
      "2014-12-31  18.03  2.98  3.47  8.45  2.34\n",
      "2015-03-31  18.00  2.82  3.81  7.47  2.25\n",
      "2015-06-30  17.97  2.84  3.58  6.93  2.15\n",
      "2015-09-30  18.02  2.71  3.46  6.64  2.06\n",
      "2015-12-31  18.06  2.71  3.39  6.16  1.97\n",
      "2016-03-31  17.78  2.56  3.30  6.09  1.90\n",
      "2016-06-30  17.50  2.53  3.17  5.81  1.84\n",
      "2016-09-30  17.31  2.56  3.10  5.71  1.78\n",
      "2016-12-31  17.12  2.54  2.70  5.64  1.71\n",
      "2017-03-31  16.74  2.42  2.58  5.44  1.66\n",
      "2017-06-30  16.35  2.45  2.53  5.28  1.60\n",
      "2017-09-30  15.37  2.38  2.48  4.68  1.55\n",
      "2017-12-31  14.38  2.31  2.37  4.46  1.50\n",
      "2018-03-31  12.12  2.13  2.26  4.36  1.44\n",
      "2018-06-30   9.85  2.06  2.12  4.14  1.37\n",
      "2018-09-30   9.41  1.94  2.05  3.99  1.30\n",
      "2018-12-31   8.97  1.96  1.88  3.69  1.24\n",
      "2019-03-31   8.53  1.89  1.82  3.56  1.24\n",
      "2019-06-30   8.09  1.83  1.70  3.41  1.24\n",
      "2019-09-30   8.09  1.84  1.65  3.38  1.24\n",
      "2019-12-31   8.09  1.86  1.65  3.16  1.24\n"
     ]
    }
   ],
   "source": [
    "df_npl = df_npl.resample('Q').first().interpolate('linear').round(2)\n",
    "print(df_npl)\n",
    "# resampling combined table to get missing data by linear interpolation, rounding"
   ]
  },
  {
   "cell_type": "code",
   "execution_count": 17,
   "metadata": {},
   "outputs": [
    {
     "name": "stdout",
     "output_type": "stream",
     "text": [
      "               IT    NL    AT    ES    DE\n",
      "Date                                     \n",
      "2010-03-31   9.66  3.19  2.28  4.23  3.28\n",
      "2010-06-30   9.86  2.76  2.41  4.34  3.26\n",
      "2010-09-30   9.95  2.57  2.58  4.51  3.23\n",
      "2010-12-31  10.03  2.83  2.83  4.67  3.20\n",
      "2011-03-31  10.50  2.73  2.72  4.97  3.16\n",
      "2011-06-30  10.97  2.68  2.74  5.27  3.12\n",
      "2011-09-30  11.36  2.72  2.66  5.64  3.07\n",
      "2011-12-31  11.74  2.71  2.71  6.01  3.03\n",
      "2012-03-31  12.33  2.94  2.72  6.54  2.99\n",
      "2012-06-30  12.91  3.12  2.75  7.07  2.94\n",
      "2012-09-30  13.33  3.06  2.73  7.28  2.90\n",
      "2012-12-31  13.75  3.10  2.81  7.48  2.86\n",
      "2013-03-31  14.44  2.78  2.80  7.87  2.82\n",
      "2013-06-30  15.12  3.00  2.82  8.25  2.78\n",
      "2013-09-30  15.83  2.95  2.90  8.81  2.74\n",
      "2013-12-31  16.54  3.23  2.87  9.38  2.70\n",
      "2014-03-31  16.90  3.21  3.81  9.19  2.61\n",
      "2014-06-30  17.26  3.00  4.10  9.00  2.52\n",
      "2014-09-30  17.65  2.90  3.95  8.73  2.43\n",
      "2014-12-31  18.03  2.98  3.47  8.45  2.34\n",
      "2015-03-31  18.00  2.82  3.81  7.47  2.25\n",
      "2015-06-30  17.97  2.84  3.58  6.93  2.15\n",
      "2015-09-30  18.02  2.71  3.46  6.64  2.06\n",
      "2015-12-31  18.06  2.71  3.39  6.16  1.97\n",
      "2016-03-31  17.78  2.56  3.30  6.09  1.90\n",
      "2016-06-30  17.50  2.53  3.17  5.81  1.84\n",
      "2016-09-30  17.31  2.56  3.10  5.71  1.78\n",
      "2016-12-31  17.12  2.54  2.70  5.64  1.71\n",
      "2017-03-31  16.74  2.42  2.58  5.44  1.66\n",
      "2017-06-30  16.35  2.45  2.53  5.28  1.60\n",
      "2017-09-30  15.37  2.38  2.48  4.68  1.55\n",
      "2017-12-31  14.38  2.31  2.37  4.46  1.50\n",
      "2018-03-31  12.12  2.13  2.26  4.36  1.44\n",
      "2018-06-30   9.85  2.06  2.12  4.14  1.37\n",
      "2018-09-30   9.41  1.94  2.05  3.99  1.30\n",
      "2018-12-31   8.97  1.96  1.88  3.69  1.24\n",
      "2019-03-31   8.53  1.89  1.82  3.56  1.24\n",
      "2019-06-30   8.09  1.83  1.70  3.41  1.24\n",
      "2019-09-30   8.09  1.84  1.65  3.38  1.24\n",
      "2019-12-31   8.09  1.86  1.65  3.16  1.24\n"
     ]
    }
   ],
   "source": [
    "df_npl_tidy = df_npl.dropna()\n",
    "print(df_npl_tidy)\n",
    "# dropping NaN values"
   ]
  },
  {
   "cell_type": "code",
   "execution_count": 18,
   "metadata": {},
   "outputs": [
    {
     "name": "stdout",
     "output_type": "stream",
     "text": [
      "              AT    DE    ES     IT    NL\n",
      "Date                                     \n",
      "2010-03-31  2.28  3.28  4.23   9.66  3.19\n",
      "2010-06-30  2.41  3.26  4.34   9.86  2.76\n",
      "2010-09-30  2.58  3.23  4.51   9.95  2.57\n",
      "2010-12-31  2.83  3.20  4.67  10.03  2.83\n",
      "2011-03-31  2.72  3.16  4.97  10.50  2.73\n"
     ]
    }
   ],
   "source": [
    "df_npl_tidy = df_npl_tidy.reindex(sorted(df_npl_tidy.columns), axis=1)\n",
    "print(df_npl_tidy.head())"
   ]
  },
  {
   "cell_type": "code",
   "execution_count": 27,
   "metadata": {},
   "outputs": [
    {
     "name": "stdout",
     "output_type": "stream",
     "text": [
      "Text(0.5, 0, 'year')\n"
     ]
    },
    {
     "data": {
      "image/png": "[encoded data removed]",
      "text/plain": [
       "<Figure size 432x288 with 1 Axes>"
      ]
     },
     "metadata": {
      "needs_background": "light"
     },
     "output_type": "display_data"
    }
   ],
   "source": [
    "title=f' Quarterly NPL'\n",
    "plot = df_npl_tidy.plot(title=title, colormap='Set1')\n",
    "plot = plot.set_xlabel('year')\n",
    "\n",
    "print(plot)\n",
    "# plot of tidy data"
   ]
  },
  {
   "cell_type": "code",
   "execution_count": 20,
   "metadata": {},
   "outputs": [],
   "source": [
    "df_npl_tidy.to_csv('npl_tidy.csv')"
   ]
  },
  {
   "cell_type": "code",
   "execution_count": 21,
   "metadata": {},
   "outputs": [],
   "source": [
    "npl_changed= df_npl_tidy.reset_index()"
   ]
  },
  {
   "cell_type": "code",
   "execution_count": 22,
   "metadata": {},
   "outputs": [
    {
     "name": "stdout",
     "output_type": "stream",
     "text": [
      "         Date    AT    DE    ES     IT    NL\n",
      "0  2010-03-31  2.28  3.28  4.23   9.66  3.19\n",
      "1  2010-06-30  2.41  3.26  4.34   9.86  2.76\n",
      "2  2010-09-30  2.58  3.23  4.51   9.95  2.57\n",
      "3  2010-12-31  2.83  3.20  4.67  10.03  2.83\n",
      "4  2011-03-31  2.72  3.16  4.97  10.50  2.73\n",
      "5  2011-06-30  2.74  3.12  5.27  10.97  2.68\n",
      "6  2011-09-30  2.66  3.07  5.64  11.36  2.72\n",
      "7  2011-12-31  2.71  3.03  6.01  11.74  2.71\n",
      "8  2012-03-31  2.72  2.99  6.54  12.33  2.94\n",
      "9  2012-06-30  2.75  2.94  7.07  12.91  3.12\n",
      "10 2012-09-30  2.73  2.90  7.28  13.33  3.06\n",
      "11 2012-12-31  2.81  2.86  7.48  13.75  3.10\n",
      "12 2013-03-31  2.80  2.82  7.87  14.44  2.78\n",
      "13 2013-06-30  2.82  2.78  8.25  15.12  3.00\n",
      "14 2013-09-30  2.90  2.74  8.81  15.83  2.95\n",
      "15 2013-12-31  2.87  2.70  9.38  16.54  3.23\n",
      "16 2014-03-31  3.81  2.61  9.19  16.90  3.21\n",
      "17 2014-06-30  4.10  2.52  9.00  17.26  3.00\n",
      "18 2014-09-30  3.95  2.43  8.73  17.65  2.90\n",
      "19 2014-12-31  3.47  2.34  8.45  18.03  2.98\n",
      "20 2015-03-31  3.81  2.25  7.47  18.00  2.82\n",
      "21 2015-06-30  3.58  2.15  6.93  17.97  2.84\n",
      "22 2015-09-30  3.46  2.06  6.64  18.02  2.71\n",
      "23 2015-12-31  3.39  1.97  6.16  18.06  2.71\n",
      "24 2016-03-31  3.30  1.90  6.09  17.78  2.56\n",
      "25 2016-06-30  3.17  1.84  5.81  17.50  2.53\n",
      "26 2016-09-30  3.10  1.78  5.71  17.31  2.56\n",
      "27 2016-12-31  2.70  1.71  5.64  17.12  2.54\n",
      "28 2017-03-31  2.58  1.66  5.44  16.74  2.42\n",
      "29 2017-06-30  2.53  1.60  5.28  16.35  2.45\n",
      "30 2017-09-30  2.48  1.55  4.68  15.37  2.38\n",
      "31 2017-12-31  2.37  1.50  4.46  14.38  2.31\n",
      "32 2018-03-31  2.26  1.44  4.36  12.12  2.13\n",
      "33 2018-06-30  2.12  1.37  4.14   9.85  2.06\n",
      "34 2018-09-30  2.05  1.30  3.99   9.41  1.94\n",
      "35 2018-12-31  1.88  1.24  3.69   8.97  1.96\n",
      "36 2019-03-31  1.82  1.24  3.56   8.53  1.89\n",
      "37 2019-06-30  1.70  1.24  3.41   8.09  1.83\n",
      "38 2019-09-30  1.65  1.24  3.38   8.09  1.84\n",
      "39 2019-12-31  1.65  1.24  3.16   8.09  1.86\n"
     ]
    }
   ],
   "source": [
    "print(npl_changed)"
   ]
  },
  {
   "cell_type": "code",
   "execution_count": 23,
   "metadata": {},
   "outputs": [],
   "source": [
    "melted_npl = npl_changed.melt(id_vars=['Date'], value_vars= ['AT', 'DE', 'ES', 'IT', 'NL'], var_name='Country', value_name='NPL')"
   ]
  },
  {
   "cell_type": "code",
   "execution_count": 24,
   "metadata": {},
   "outputs": [],
   "source": [
    "melted_npl.set_index('Date', inplace=True) "
   ]
  },
  {
   "cell_type": "code",
   "execution_count": 25,
   "metadata": {},
   "outputs": [
    {
     "name": "stdout",
     "output_type": "stream",
     "text": [
      "           Country   NPL\n",
      "Date                    \n",
      "2010-03-31      AT  2.28\n",
      "2010-06-30      AT  2.41\n",
      "2010-09-30      AT  2.58\n",
      "2010-12-31      AT  2.83\n",
      "2011-03-31      AT  2.72\n",
      "2011-06-30      AT  2.74\n",
      "2011-09-30      AT  2.66\n",
      "2011-12-31      AT  2.71\n",
      "2012-03-31      AT  2.72\n",
      "2012-06-30      AT  2.75\n",
      "2012-09-30      AT  2.73\n",
      "2012-12-31      AT  2.81\n",
      "2013-03-31      AT  2.80\n",
      "2013-06-30      AT  2.82\n",
      "2013-09-30      AT  2.90\n",
      "2013-12-31      AT  2.87\n",
      "2014-03-31      AT  3.81\n",
      "2014-06-30      AT  4.10\n",
      "2014-09-30      AT  3.95\n",
      "2014-12-31      AT  3.47\n",
      "2015-03-31      AT  3.81\n",
      "2015-06-30      AT  3.58\n",
      "2015-09-30      AT  3.46\n",
      "2015-12-31      AT  3.39\n",
      "2016-03-31      AT  3.30\n",
      "2016-06-30      AT  3.17\n",
      "2016-09-30      AT  3.10\n",
      "2016-12-31      AT  2.70\n",
      "2017-03-31      AT  2.58\n",
      "2017-06-30      AT  2.53\n",
      "...            ...   ...\n",
      "2012-09-30      NL  3.06\n",
      "2012-12-31      NL  3.10\n",
      "2013-03-31      NL  2.78\n",
      "2013-06-30      NL  3.00\n",
      "2013-09-30      NL  2.95\n",
      "2013-12-31      NL  3.23\n",
      "2014-03-31      NL  3.21\n",
      "2014-06-30      NL  3.00\n",
      "2014-09-30      NL  2.90\n",
      "2014-12-31      NL  2.98\n",
      "2015-03-31      NL  2.82\n",
      "2015-06-30      NL  2.84\n",
      "2015-09-30      NL  2.71\n",
      "2015-12-31      NL  2.71\n",
      "2016-03-31      NL  2.56\n",
      "2016-06-30      NL  2.53\n",
      "2016-09-30      NL  2.56\n",
      "2016-12-31      NL  2.54\n",
      "2017-03-31      NL  2.42\n",
      "2017-06-30      NL  2.45\n",
      "2017-09-30      NL  2.38\n",
      "2017-12-31      NL  2.31\n",
      "2018-03-31      NL  2.13\n",
      "2018-06-30      NL  2.06\n",
      "2018-09-30      NL  1.94\n",
      "2018-12-31      NL  1.96\n",
      "2019-03-31      NL  1.89\n",
      "2019-06-30      NL  1.83\n",
      "2019-09-30      NL  1.84\n",
      "2019-12-31      NL  1.86\n",
      "\n",
      "[200 rows x 2 columns]\n"
     ]
    }
   ],
   "source": [
    "print(melted_npl)"
   ]
  },
  {
   "cell_type": "code",
   "execution_count": 28,
   "metadata": {},
   "outputs": [],
   "source": [
    "melted_npl.to_csv('npl_melted.csv')"
   ]
  },
  {
   "cell_type": "code",
   "execution_count": null,
   "metadata": {},
   "outputs": [],
   "source": []
  },
  {
   "cell_type": "code",
   "execution_count": null,
   "metadata": {},
   "outputs": [],
   "source": []
  }
 ],
 "metadata": {
  "kernelspec": {
   "display_name": "Python 3",
   "language": "python",
   "name": "python3"
  },
  "language_info": {
   "codemirror_mode": {
    "name": "ipython",
    "version": 3
   },
   "file_extension": ".py",
   "mimetype": "text/x-python",
   "name": "python",
   "nbconvert_exporter": "python",
   "pygments_lexer": "ipython3",
   "version": "3.7.1"
  }
 },
 "nbformat": 4,
 "nbformat_minor": 2
}
